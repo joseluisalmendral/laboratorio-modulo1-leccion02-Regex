{
 "cells": [
  {
   "cell_type": "markdown",
   "metadata": {},
   "source": [
    "<div style=\"text-align: center;\">\n",
    "  <img src=\"https://github.com/Hack-io-Data/Imagenes/blob/main/01-LogosHackio/logo_naranja@4x.png?raw=true\" alt=\"esquema\" />\n",
    "</div>"
   ]
  },
  {
   "cell_type": "markdown",
   "metadata": {},
   "source": [
    "# Laboratorio de Regex:"
   ]
  },
  {
   "cell_type": "markdown",
   "metadata": {},
   "source": [
    "### Ejercicio 1: Extracción de datos.\n",
    "\n",
    "Recuerda que necesitamos hacer importaciones antes de enfrentarnos a un problema. "
   ]
  },
  {
   "cell_type": "code",
   "execution_count": 40,
   "metadata": {},
   "outputs": [],
   "source": [
    "# Importaciones:\n",
    "## Para trabajar con expresiones regulares\n",
    "import re \n",
    "\n",
    "## Para contar las palabras de un texto \n",
    "from collections import Counter \n",
    "\n",
    "#varias canciones, titulos, varios algo\n",
    "#encontar donde empieza y donde acaba."
   ]
  },
  {
   "cell_type": "markdown",
   "metadata": {},
   "source": [
    "Dado el archivo `datos_artistas.txt` usa las **expresiones regulares** para extraer los siguientes datos, con el código que encontrarás en la siguiente celda:"
   ]
  },
  {
   "cell_type": "code",
   "execution_count": 41,
   "metadata": {},
   "outputs": [
    {
     "name": "stdout",
     "output_type": "stream",
     "text": [
      "BobDylan bob.dylan@gmail.com -1 123456789 http://bobdylan.com Like a Rolling Stone - 6:13 1965 Once upon a time you dressed so fine\n",
      "Threw the bums a dime in your prime, didn't you?\n",
      "People call say 'be\n"
     ]
    }
   ],
   "source": [
    "with open('Datos/datos_artistas.txt', 'r', encoding='utf8') as archivo:\n",
    "    contenido = archivo.read()\n",
    "    # Aquí puedes trabajar con el contenido del archivo\n",
    "\n",
    "print(contenido[:200])"
   ]
  },
  {
   "cell_type": "markdown",
   "metadata": {},
   "source": [
    "#### 1.1 La información de cada artista(nombre, correo de contacto, número de contacto y sitio web)."
   ]
  },
  {
   "cell_type": "code",
   "execution_count": 42,
   "metadata": {},
   "outputs": [
    {
     "data": {
      "text/plain": [
       "[{'nombre': 'BobDylan',\n",
       "  'correo': 'bob.dylan@gmail.com',\n",
       "  'numero_contacto': '-1 123456789',\n",
       "  'sitio_web': 'http://bobdylan.com'},\n",
       " {'nombre': 'TheBeatles',\n",
       "  'correo': 'contact@thebeatles.co.uk',\n",
       "  'numero_contacto': '-44 234567890',\n",
       "  'sitio_web': 'http://thebeatles.co.uk'},\n",
       " {'nombre': 'EltonJohn',\n",
       "  'correo': 'elton.john@hotmail.com',\n",
       "  'numero_contacto': '-34 345678901',\n",
       "  'sitio_web': 'http://eltonjohn.com'},\n",
       " {'nombre': 'Queen',\n",
       "  'correo': 'info@queenonline.com',\n",
       "  'numero_contacto': '-23 456789012',\n",
       "  'sitio_web': 'http://queenonline.com'},\n",
       " {'nombre': 'MichaelJackson',\n",
       "  'correo': 'michael.jackson@yahoo.com',\n",
       "  'numero_contacto': '-1 567890123',\n",
       "  'sitio_web': 'http://michaeljackson.com'},\n",
       " {'nombre': 'Madonna',\n",
       "  'correo': 'madonna@madonna.com',\n",
       "  'numero_contacto': '-11 678901234',\n",
       "  'sitio_web': 'http://madonna.com'},\n",
       " {'nombre': 'DavidBowie',\n",
       "  'correo': 'david.bowie@outlook.com',\n",
       "  'numero_contacto': '-44 789012345',\n",
       "  'sitio_web': 'http://davidbowie.com'},\n",
       " {'nombre': 'Nirvana',\n",
       "  'correo': 'contact@nirvana.com',\n",
       "  'numero_contacto': '-2 890123456',\n",
       "  'sitio_web': 'http://nirvana.com'},\n",
       " {'nombre': 'Adele',\n",
       "  'correo': 'adele@adele.com',\n",
       "  'numero_contacto': '-44 901234567',\n",
       "  'sitio_web': 'http://adele.com'},\n",
       " {'nombre': 'EdSheeran',\n",
       "  'correo': 'ed.sheeran@gmail.com',\n",
       "  'numero_contacto': '-44 123456789',\n",
       "  'sitio_web': 'http://edsheeran.com'},\n",
       " {'nombre': 'Beyoncé',\n",
       "  'correo': 'beyonce@beyonce.com',\n",
       "  'numero_contacto': '-1 234567890',\n",
       "  'sitio_web': 'http://beyonce.com'},\n",
       " {'nombre': 'TaylorSwift',\n",
       "  'correo': 'taylor.swift@yahoo.com',\n",
       "  'numero_contacto': '-34 345678901',\n",
       "  'sitio_web': 'http://taylorswift.com'},\n",
       " {'nombre': 'Rihanna',\n",
       "  'correo': 'rihanna@hotmail.com',\n",
       "  'numero_contacto': '-1 456789012',\n",
       "  'sitio_web': 'http://rihanna.com'},\n",
       " {'nombre': 'Drake',\n",
       "  'correo': 'drake@drake.com',\n",
       "  'numero_contacto': '-54 567890123',\n",
       "  'sitio_web': 'http://drake.com'},\n",
       " {'nombre': 'KanyeWest',\n",
       "  'correo': 'kanye.west@gmail.com',\n",
       "  'numero_contacto': '-13 678901234',\n",
       "  'sitio_web': 'http://kanyewest.com'},\n",
       " {'nombre': 'BrunoMars',\n",
       "  'correo': 'bruno.mars@outlook.com',\n",
       "  'numero_contacto': '-1 789012345',\n",
       "  'sitio_web': 'https://brunomars.com'},\n",
       " {'nombre': 'ArianaGrande',\n",
       "  'correo': 'ariana.grande@yahoo.com',\n",
       "  'numero_contacto': '-23 890123456',\n",
       "  'sitio_web': 'https://arianagrande.com'},\n",
       " {'nombre': 'Shakira',\n",
       "  'correo': 'shakira@hotmail.com',\n",
       "  'numero_contacto': '-57 123456789',\n",
       "  'sitio_web': 'http://shakira.com'},\n",
       " {'nombre': 'Coldplay',\n",
       "  'correo': 'info@coldplay.com',\n",
       "  'numero_contacto': '-57 234567890',\n",
       "  'sitio_web': 'http://coldplay.com'},\n",
       " {'nombre': 'LadyGaga',\n",
       "  'correo': 'lady.gaga@gmail.com',\n",
       "  'numero_contacto': '-34 345678901',\n",
       "  'sitio_web': 'https://ladygaga.com'}]"
      ]
     },
     "execution_count": 42,
     "metadata": {},
     "output_type": "execute_result"
    }
   ],
   "source": [
    "canciones = re.split(r\"\\.\\/\", contenido)\n",
    "\n",
    "patron_nombre = r\"\\w+\"\n",
    "patron_correo = r'\\s(\\S+)\\s'\n",
    "patron_numero = r'..\\d\\s\\d*'\n",
    "patron_web = r'https?://(\\S+)\\s'\n",
    "\n",
    "artistas = []\n",
    "for cancion in canciones:\n",
    "    artistas.append({\n",
    "        'nombre': re.match(patron_nombre, cancion).group(),\n",
    "        'correo': re.search(patron_correo, cancion).group().strip(),\n",
    "        'numero_contacto': re.search(patron_numero, cancion).group().strip(),\n",
    "        'sitio_web': re.search(patron_web, cancion).group().strip()\n",
    "    })\n",
    "\n",
    "artistas\n"
   ]
  },
  {
   "cell_type": "markdown",
   "metadata": {},
   "source": [
    "#### 1.2 La información de cada canción(título, duración y fecha de lanzamiento)."
   ]
  },
  {
   "cell_type": "code",
   "execution_count": 43,
   "metadata": {},
   "outputs": [
    {
     "data": {
      "text/plain": [
       "[{'titulo': 'Like a Rolling Stone',\n",
       "  'duracion': '6:13',\n",
       "  'fecha_lanzamiento': '1965'},\n",
       " {'titulo': 'Hey Jude', 'duracion': '7:11', 'fecha_lanzamiento': '1968'},\n",
       " {'titulo': 'Your Song', 'duracion': '4:01', 'fecha_lanzamiento': '1970'},\n",
       " {'titulo': 'Bohemian Rhapsody',\n",
       "  'duracion': '5:55',\n",
       "  'fecha_lanzamiento': '1975'},\n",
       " {'titulo': 'Billie Jean', 'duracion': '4:54', 'fecha_lanzamiento': '1982'},\n",
       " {'titulo': 'Like a Prayer', 'duracion': '5:43', 'fecha_lanzamiento': '1989'},\n",
       " {'titulo': 'Space Oddity', 'duracion': '5:18', 'fecha_lanzamiento': '1969'},\n",
       " {'titulo': 'Smells Like Teen Spirit',\n",
       "  'duracion': '5:01',\n",
       "  'fecha_lanzamiento': '1991'},\n",
       " {'titulo': 'Someone Like You',\n",
       "  'duracion': '4:45',\n",
       "  'fecha_lanzamiento': '2011'},\n",
       " {'titulo': 'Shape of You', 'duracion': '3:53', 'fecha_lanzamiento': '2017'},\n",
       " {'titulo': 'Halo', 'duracion': '4:21', 'fecha_lanzamiento': '2008'},\n",
       " {'titulo': 'Blank Space', 'duracion': '3:52', 'fecha_lanzamiento': '2014'},\n",
       " {'titulo': 'Diamonds', 'duracion': '3:45', 'fecha_lanzamiento': '2012'},\n",
       " {'titulo': ',  ,  Hotline Bling',\n",
       "  'duracion': '4:27',\n",
       "  'fecha_lanzamiento': '2015'},\n",
       " {'titulo': 'Stronger', 'duracion': '5:12', 'fecha_lanzamiento': '2007'},\n",
       " {'titulo': 'Uptown Funk', 'duracion': '4:30', 'fecha_lanzamiento': '2014'},\n",
       " {'titulo': '7 Rings', 'duracion': '2:58', 'fecha_lanzamiento': '2019'},\n",
       " {'titulo': \",  ,  Hips Don't Lie\",\n",
       "  'duracion': '3:38',\n",
       "  'fecha_lanzamiento': '2006'},\n",
       " {'titulo': 'Yellow', 'duracion': '4:26', 'fecha_lanzamiento': '2000'},\n",
       " {'titulo': 'Bad Romance', 'duracion': '4:54', 'fecha_lanzamiento': '2009'}]"
      ]
     },
     "execution_count": 43,
     "metadata": {},
     "output_type": "execute_result"
    }
   ],
   "source": [
    "copia_canciones = canciones\n",
    "\n",
    "#quitamos la informacion que ya tenemos para facilitarnos la vida\n",
    "for i,artista in enumerate(artistas):\n",
    "    copia_canciones[i] = copia_canciones[i].replace(artista['nombre'],'')\n",
    "    copia_canciones[i] = copia_canciones[i].replace(artista['numero_contacto'],\"\")\n",
    "    copia_canciones[i] = copia_canciones[i].replace(artista['correo'],\"\")\n",
    "    copia_canciones[i] = copia_canciones[i].replace(artista['sitio_web'],\"\").strip()\n",
    "\n",
    "canciones = []\n",
    "\n",
    "patron_titulo = r'^[^-]+'\n",
    "patron_duracion = r'..(:)..'\n",
    "patron_fecha_lan = r'\\d{4}'\n",
    "\n",
    "for cancion in copia_canciones:\n",
    "    canciones.append({\n",
    "        'titulo': re.search(patron_titulo, cancion).group().strip(),\n",
    "        'duracion': re.search(patron_duracion, cancion).group().strip(),\n",
    "        'fecha_lanzamiento': re.search(patron_fecha_lan, cancion).group()\n",
    "    })\n",
    "\n",
    "#canciones\n",
    "prueba = re.search(patron_fecha_lan, copia_canciones[0])\n",
    "prueba\n",
    "canciones"
   ]
  },
  {
   "cell_type": "markdown",
   "metadata": {},
   "source": [
    "#### 1.3 Almacena la información en una lista de diccionarios donde cada diccionario contenga los datos de un artista y su canción asociada."
   ]
  },
  {
   "cell_type": "code",
   "execution_count": 44,
   "metadata": {},
   "outputs": [
    {
     "data": {
      "text/plain": [
       "[{'artista': {'nombre': 'BobDylan',\n",
       "   'correo': 'bob.dylan@gmail.com',\n",
       "   'numero_contacto': '-1 123456789',\n",
       "   'sitio_web': 'http://bobdylan.com'},\n",
       "  'cancion': {'titulo': 'Like a Rolling Stone',\n",
       "   'duracion': '6:13',\n",
       "   'fecha_lanzamiento': '1965'}},\n",
       " {'artista': {'nombre': 'TheBeatles',\n",
       "   'correo': 'contact@thebeatles.co.uk',\n",
       "   'numero_contacto': '-44 234567890',\n",
       "   'sitio_web': 'http://thebeatles.co.uk'},\n",
       "  'cancion': {'titulo': 'Hey Jude',\n",
       "   'duracion': '7:11',\n",
       "   'fecha_lanzamiento': '1968'}},\n",
       " {'artista': {'nombre': 'EltonJohn',\n",
       "   'correo': 'elton.john@hotmail.com',\n",
       "   'numero_contacto': '-34 345678901',\n",
       "   'sitio_web': 'http://eltonjohn.com'},\n",
       "  'cancion': {'titulo': 'Your Song',\n",
       "   'duracion': '4:01',\n",
       "   'fecha_lanzamiento': '1970'}},\n",
       " {'artista': {'nombre': 'Queen',\n",
       "   'correo': 'info@queenonline.com',\n",
       "   'numero_contacto': '-23 456789012',\n",
       "   'sitio_web': 'http://queenonline.com'},\n",
       "  'cancion': {'titulo': 'Bohemian Rhapsody',\n",
       "   'duracion': '5:55',\n",
       "   'fecha_lanzamiento': '1975'}},\n",
       " {'artista': {'nombre': 'MichaelJackson',\n",
       "   'correo': 'michael.jackson@yahoo.com',\n",
       "   'numero_contacto': '-1 567890123',\n",
       "   'sitio_web': 'http://michaeljackson.com'},\n",
       "  'cancion': {'titulo': 'Billie Jean',\n",
       "   'duracion': '4:54',\n",
       "   'fecha_lanzamiento': '1982'}},\n",
       " {'artista': {'nombre': 'Madonna',\n",
       "   'correo': 'madonna@madonna.com',\n",
       "   'numero_contacto': '-11 678901234',\n",
       "   'sitio_web': 'http://madonna.com'},\n",
       "  'cancion': {'titulo': 'Like a Prayer',\n",
       "   'duracion': '5:43',\n",
       "   'fecha_lanzamiento': '1989'}},\n",
       " {'artista': {'nombre': 'DavidBowie',\n",
       "   'correo': 'david.bowie@outlook.com',\n",
       "   'numero_contacto': '-44 789012345',\n",
       "   'sitio_web': 'http://davidbowie.com'},\n",
       "  'cancion': {'titulo': 'Space Oddity',\n",
       "   'duracion': '5:18',\n",
       "   'fecha_lanzamiento': '1969'}},\n",
       " {'artista': {'nombre': 'Nirvana',\n",
       "   'correo': 'contact@nirvana.com',\n",
       "   'numero_contacto': '-2 890123456',\n",
       "   'sitio_web': 'http://nirvana.com'},\n",
       "  'cancion': {'titulo': 'Smells Like Teen Spirit',\n",
       "   'duracion': '5:01',\n",
       "   'fecha_lanzamiento': '1991'}},\n",
       " {'artista': {'nombre': 'Adele',\n",
       "   'correo': 'adele@adele.com',\n",
       "   'numero_contacto': '-44 901234567',\n",
       "   'sitio_web': 'http://adele.com'},\n",
       "  'cancion': {'titulo': 'Someone Like You',\n",
       "   'duracion': '4:45',\n",
       "   'fecha_lanzamiento': '2011'}},\n",
       " {'artista': {'nombre': 'EdSheeran',\n",
       "   'correo': 'ed.sheeran@gmail.com',\n",
       "   'numero_contacto': '-44 123456789',\n",
       "   'sitio_web': 'http://edsheeran.com'},\n",
       "  'cancion': {'titulo': 'Shape of You',\n",
       "   'duracion': '3:53',\n",
       "   'fecha_lanzamiento': '2017'}},\n",
       " {'artista': {'nombre': 'Beyoncé',\n",
       "   'correo': 'beyonce@beyonce.com',\n",
       "   'numero_contacto': '-1 234567890',\n",
       "   'sitio_web': 'http://beyonce.com'},\n",
       "  'cancion': {'titulo': 'Halo',\n",
       "   'duracion': '4:21',\n",
       "   'fecha_lanzamiento': '2008'}},\n",
       " {'artista': {'nombre': 'TaylorSwift',\n",
       "   'correo': 'taylor.swift@yahoo.com',\n",
       "   'numero_contacto': '-34 345678901',\n",
       "   'sitio_web': 'http://taylorswift.com'},\n",
       "  'cancion': {'titulo': 'Blank Space',\n",
       "   'duracion': '3:52',\n",
       "   'fecha_lanzamiento': '2014'}},\n",
       " {'artista': {'nombre': 'Rihanna',\n",
       "   'correo': 'rihanna@hotmail.com',\n",
       "   'numero_contacto': '-1 456789012',\n",
       "   'sitio_web': 'http://rihanna.com'},\n",
       "  'cancion': {'titulo': 'Diamonds',\n",
       "   'duracion': '3:45',\n",
       "   'fecha_lanzamiento': '2012'}},\n",
       " {'artista': {'nombre': 'Drake',\n",
       "   'correo': 'drake@drake.com',\n",
       "   'numero_contacto': '-54 567890123',\n",
       "   'sitio_web': 'http://drake.com'},\n",
       "  'cancion': {'titulo': ',  ,  Hotline Bling',\n",
       "   'duracion': '4:27',\n",
       "   'fecha_lanzamiento': '2015'}},\n",
       " {'artista': {'nombre': 'KanyeWest',\n",
       "   'correo': 'kanye.west@gmail.com',\n",
       "   'numero_contacto': '-13 678901234',\n",
       "   'sitio_web': 'http://kanyewest.com'},\n",
       "  'cancion': {'titulo': 'Stronger',\n",
       "   'duracion': '5:12',\n",
       "   'fecha_lanzamiento': '2007'}},\n",
       " {'artista': {'nombre': 'BrunoMars',\n",
       "   'correo': 'bruno.mars@outlook.com',\n",
       "   'numero_contacto': '-1 789012345',\n",
       "   'sitio_web': 'https://brunomars.com'},\n",
       "  'cancion': {'titulo': 'Uptown Funk',\n",
       "   'duracion': '4:30',\n",
       "   'fecha_lanzamiento': '2014'}},\n",
       " {'artista': {'nombre': 'ArianaGrande',\n",
       "   'correo': 'ariana.grande@yahoo.com',\n",
       "   'numero_contacto': '-23 890123456',\n",
       "   'sitio_web': 'https://arianagrande.com'},\n",
       "  'cancion': {'titulo': '7 Rings',\n",
       "   'duracion': '2:58',\n",
       "   'fecha_lanzamiento': '2019'}},\n",
       " {'artista': {'nombre': 'Shakira',\n",
       "   'correo': 'shakira@hotmail.com',\n",
       "   'numero_contacto': '-57 123456789',\n",
       "   'sitio_web': 'http://shakira.com'},\n",
       "  'cancion': {'titulo': \",  ,  Hips Don't Lie\",\n",
       "   'duracion': '3:38',\n",
       "   'fecha_lanzamiento': '2006'}},\n",
       " {'artista': {'nombre': 'Coldplay',\n",
       "   'correo': 'info@coldplay.com',\n",
       "   'numero_contacto': '-57 234567890',\n",
       "   'sitio_web': 'http://coldplay.com'},\n",
       "  'cancion': {'titulo': 'Yellow',\n",
       "   'duracion': '4:26',\n",
       "   'fecha_lanzamiento': '2000'}},\n",
       " {'artista': {'nombre': 'LadyGaga',\n",
       "   'correo': 'lady.gaga@gmail.com',\n",
       "   'numero_contacto': '-34 345678901',\n",
       "   'sitio_web': 'https://ladygaga.com'},\n",
       "  'cancion': {'titulo': 'Bad Romance',\n",
       "   'duracion': '4:54',\n",
       "   'fecha_lanzamiento': '2009'}}]"
      ]
     },
     "execution_count": 44,
     "metadata": {},
     "output_type": "execute_result"
    }
   ],
   "source": [
    "artistas_canciones = []\n",
    "\n",
    "for i,artista in enumerate(artistas):\n",
    "    artistas_canciones.append({\n",
    "        'artista': artista,\n",
    "        'cancion': canciones[i]\n",
    "    })\n",
    "\n",
    "artistas_canciones"
   ]
  },
  {
   "cell_type": "markdown",
   "metadata": {},
   "source": [
    "### Ejercicio 2: Análisis de datos\n",
    "Usa las **expresiones regulares** para extraer la siguiente información:"
   ]
  },
  {
   "cell_type": "markdown",
   "metadata": {},
   "source": [
    "#### 2.1 Busca la palabra más repetida en el texto completo.\n"
   ]
  },
  {
   "cell_type": "code",
   "execution_count": 45,
   "metadata": {},
   "outputs": [
    {
     "name": "stdout",
     "output_type": "stream",
     "text": [
      "Como tal la 'palabra' mas repetida es --> 'i' que aparece 342 veces\n",
      "\n",
      "Por lo que seleccionare la segunda que para mi si que es una palabra --> 'you' que aparece 334 veces\n"
     ]
    }
   ],
   "source": [
    "palabras = contenido.lower().split()\n",
    "\n",
    "contador_palabras = Counter(palabras)\n",
    "\n",
    "palabra_mas_repetida = contador_palabras.most_common(1)[0]\n",
    "palabra_mas_repetida2 = contador_palabras.most_common(2)[1]\n",
    "\n",
    "print(f\"Como tal la 'palabra' mas repetida es --> '{palabra_mas_repetida[0]}' que aparece {palabra_mas_repetida[1]} veces\\n\")\n",
    "print(f\"Por lo que seleccionare la segunda que para mi si que es una palabra --> '{palabra_mas_repetida2[0]}' que aparece {palabra_mas_repetida2[1]} veces\")"
   ]
  },
  {
   "cell_type": "markdown",
   "metadata": {},
   "source": [
    "#### 2.2 Busca la palabra que más repetida en cada cación.\n"
   ]
  },
  {
   "cell_type": "code",
   "execution_count": 46,
   "metadata": {},
   "outputs": [
    {
     "data": {
      "text/plain": [
       "[{'cancion': 'Like a Rolling Stone',\n",
       "  'palabra_mas_repetida': 'you',\n",
       "  'veces': 28},\n",
       " {'cancion': 'Hey Jude', 'palabra_mas_repetida': 'it', 'veces': 11},\n",
       " {'cancion': 'Your Song', 'palabra_mas_repetida': 'i', 'veces': 18},\n",
       " {'cancion': 'Bohemian Rhapsody', 'palabra_mas_repetida': 'me', 'veces': 13},\n",
       " {'cancion': 'Billie Jean', 'palabra_mas_repetida': 'the', 'veces': 35},\n",
       " {'cancion': 'Like a Prayer', 'palabra_mas_repetida': 'a', 'veces': 46},\n",
       " {'cancion': 'Space Oddity', 'palabra_mas_repetida': 'to', 'veces': 8},\n",
       " {'cancion': 'Smells Like Teen Spirit',\n",
       "  'palabra_mas_repetida': 'hello,',\n",
       "  'veces': 33},\n",
       " {'cancion': 'Someone Like You', 'palabra_mas_repetida': 'i', 'veces': 23},\n",
       " {'cancion': 'Shape of You', 'palabra_mas_repetida': 'come', 'veces': 35},\n",
       " {'cancion': 'Halo', 'palabra_mas_repetida': 'halo', 'veces': 49},\n",
       " {'cancion': 'Blank Space', 'palabra_mas_repetida': 'you', 'veces': 28},\n",
       " {'cancion': 'Diamonds', 'palabra_mas_repetida': 'like', 'veces': 38},\n",
       " {'cancion': ',  ,  Hotline Bling',\n",
       "  'palabra_mas_repetida': 'you',\n",
       "  'veces': 33},\n",
       " {'cancion': 'Stronger', 'palabra_mas_repetida': 'i', 'veces': 44},\n",
       " {'cancion': 'Uptown Funk', 'palabra_mas_repetida': 'you', 'veces': 34},\n",
       " {'cancion': '7 Rings', 'palabra_mas_repetida': 'i', 'veces': 54},\n",
       " {'cancion': \",  ,  Hips Don't Lie\",\n",
       "  'palabra_mas_repetida': 'you',\n",
       "  'veces': 22},\n",
       " {'cancion': 'Yellow', 'palabra_mas_repetida': 'you', 'veces': 19},\n",
       " {'cancion': 'Bad Romance', 'palabra_mas_repetida': 'your', 'veces': 48}]"
      ]
     },
     "execution_count": 46,
     "metadata": {},
     "output_type": "execute_result"
    }
   ],
   "source": [
    "#quitamos de nuevo la informacion que ya tenemos para facilitarnos la vida\n",
    "\n",
    "for i,artista_cancion in enumerate(artistas_canciones):\n",
    "    artista_cancion['cancion']['letra'] = re.split(r'\\d{4}', copia_canciones[i])[1].strip()\n",
    "\n",
    "artistas_canciones[0]\n",
    "\n",
    "palabras_mas_repetidas_en_cancion = []\n",
    "for i,artista_cancion in enumerate(artistas_canciones):\n",
    "\n",
    "    palabras = artista_cancion['cancion']['letra'].lower().split()\n",
    "    contador_palabras = Counter(palabras)\n",
    "    palabra_mas_repetida = contador_palabras.most_common(1)[0]\n",
    "\n",
    "    palabras_mas_repetidas_en_cancion.append({\n",
    "        'cancion': artista_cancion['cancion']['titulo'],\n",
    "        'palabra_mas_repetida': palabra_mas_repetida[0],\n",
    "        'veces': palabra_mas_repetida[1]\n",
    "    })\n",
    "\n",
    "palabras_mas_repetidas_en_cancion"
   ]
  },
  {
   "cell_type": "markdown",
   "metadata": {},
   "source": [
    "#### 2.3 Busca el nombre de la canción que más dura.\n"
   ]
  },
  {
   "cell_type": "code",
   "execution_count": 53,
   "metadata": {},
   "outputs": [
    {
     "data": {
      "text/plain": [
       "{'titulo': 'Hey Jude',\n",
       " 'duracion': '7:11',\n",
       " 'fecha_lanzamiento': '1968',\n",
       " 'letra': \"Hey Jude, don't make it bad.\\nTake a sad song and make it better.\\nRemember to let her into your heart,\\nThen you can start to make it better.\\nHey Jude, don't be afraid.\\nYou were made to go out and get her.\\nThe minute you let her under your skin,\\nThen you begin to make it better.\\nAnd anytime you feel the pain, hey Jude, refrain,\\nDon't carry the world upon your shoulders.\\nFor well you know that it's a fool who plays it cool\\nBy making his world a little colder.\\nHey Jude, don't let me down.\\nYou have found her, now go and get her.\\nRemember to let her into your heart,\\nThen you can start to make it better.\\nSo let it out and let it in, hey Jude, begin,\\nYou're waiting for someone to perform with.\\nAnd don't you know that it's just you, hey Jude, you'll do,\\nThe movement you need is on your shoulder.\\nHey Jude, don't make it bad.\\nTake a sad song and make it better.\\nRemember to let her under your skin,\\nThen you'll begin to make it\\nBetter better better better better better, oh.\\nNa na na nananana, nannana, hey Jude...\\n(repeat X number of times, fade)\"}"
      ]
     },
     "execution_count": 53,
     "metadata": {},
     "output_type": "execute_result"
    }
   ],
   "source": [
    "def convertir_a_segundos(duracion):\n",
    "    minutos, segundos = map(int, duracion.split(':'))\n",
    "    return minutos * 60 + segundos\n",
    "\n",
    "\n",
    "cancion_menor_duracion = max(canciones, key=lambda cancion: convertir_a_segundos(cancion['duracion']))\n",
    "cancion_menor_duracion\n"
   ]
  },
  {
   "cell_type": "markdown",
   "metadata": {},
   "source": [
    "#### 2.4 Busca el nombre de la canción que menos dura."
   ]
  },
  {
   "cell_type": "code",
   "execution_count": 52,
   "metadata": {},
   "outputs": [
    {
     "data": {
      "text/plain": [
       "{'titulo': '7 Rings',\n",
       " 'duracion': '2:58',\n",
       " 'fecha_lanzamiento': '2019',\n",
       " 'letra': \"Yeah, breakfast at Tiffany's and bottles of bubbles\\nGirls with tattoos who like getting in trouble\\nLashes and diamonds, ATM machines\\nBuy myself all of my favourite things, yeah\\nBeen through some bad shit, I should be a sad bitch\\nWho would have thought it'd turn me to a savage?\\nRather be tied up with calls and not strings\\nWrite my own checks like I write what I sing, yeah\\nMy wrist, stop watchin', my neck is flossy\\nMake big deposits, my gloss is poppin'\\nYou like my hair? Gee, thanks, just bought it\\nI see it, I like it, I want it, I got it, yeah\\nI want it, I got it, I want it, I got it\\nI want it, I got it, I want it, I got it\\nYou like my hair? Gee, thanks, just bought it\\nI see it, I like it, I want it, I got it (yep)\\nWearing a ring, but ain't gon' be no Mrs\\nBought matching diamonds for six of my bitches\\nI'd rather spoil all my friends with my riches\\nThink retail therapy my new addiction\\nWhoever said money can't solve your problems\\nMust not have had enough money to solve 'em\\nThey say, Which one?, I say, Nah, I want all of 'em\\nHappiness is the same price as red-bottoms\\nMy smile is beamin' (yeah), my skin is gleamin' (is gleamin')\\nThe way it shine, I know you've seen it (you've seen it)\\nI bought a crib just for (just for) the closet (closet)\\nBoth his and hers, I want it, I got it, yeah\\nI want it, I got it, I want it, I got it\\nI want it, I got it, I want it, I got it (baby)\\nYou like my hair? Gee, thanks, just bought it (oh yeah)\\nI see it, I like it, I want it, I got it (yep)\\nYeah, my receipts be lookin' like phone numbers\\nIf it ain't money, then wrong number\\nBlack card is my business card\\nThe way it be settin' the tone for me\\nI don't mean to brag, but I be like, Put it in the bag, yeah\\nWhen you see them racks, they stacked up like my ass, yeah\\nShoot, go from the store to the booth\\nMake it all back in one loop, give me the loot\\nNever mind, I got the juice\\nNothing but net when we shoot\\nLook at my neck, look at my jet\\nAin't got enough money to pay me respect\\nAin't no budget when I'm on the set\\nIf I like it, then that's what I get, yeah\\nI want it, I got it, I want it, I got it (yeah)\\nI want it, I got it, I want it, I got it (oh yeah, yeah)\\nYou like my hair? Gee, thanks, just bought it\\nI see it, I like it, I want it, I got it (yep)\"}"
      ]
     },
     "execution_count": 52,
     "metadata": {},
     "output_type": "execute_result"
    }
   ],
   "source": [
    "cancion_menor_duracion = min(canciones, key=lambda cancion: convertir_a_segundos(cancion['duracion']))\n",
    "cancion_menor_duracion"
   ]
  },
  {
   "cell_type": "markdown",
   "metadata": {},
   "source": [
    "#### 2.5 Busca el nombre y la fecha de lanzamiento de la canción más actual."
   ]
  },
  {
   "cell_type": "code",
   "execution_count": 10,
   "metadata": {},
   "outputs": [
    {
     "name": "stdout",
     "output_type": "stream",
     "text": [
      "Nombre --> '7 Rings' | Fecha de Lanzamiento --> '2019'\n"
     ]
    }
   ],
   "source": [
    "\n",
    "cancion_mas_reciente = sorted(canciones, key=lambda cancion: int(cancion['fecha_lanzamiento']), reverse=True)[0]\n",
    "print(f\"Nombre --> '{cancion_mas_reciente['titulo']}' | Fecha de Lanzamiento --> '{cancion_mas_reciente['fecha_lanzamiento']}'\")"
   ]
  },
  {
   "cell_type": "markdown",
   "metadata": {},
   "source": [
    "#### 2.6 Calcula la cantidad de países a partir de los números de contacto."
   ]
  },
  {
   "cell_type": "code",
   "execution_count": 11,
   "metadata": {},
   "outputs": [
    {
     "name": "stdout",
     "output_type": "stream",
     "text": [
      "Cantidad de paises segun la cantidad de prefijos --> 9\n"
     ]
    }
   ],
   "source": [
    "prueba = re.match(r\"-\\d+\", artistas[0]['numero_contacto'])\n",
    "\n",
    "prefijos = []\n",
    "for artista in artistas:\n",
    "    prefijo = re.match(r\"-\\d+\", artista['numero_contacto']).group()\n",
    "    if prefijo not in prefijos:\n",
    "        prefijos.append(prefijo)\n",
    "\n",
    "print(f\"Cantidad de paises segun la cantidad de prefijos --> {len(prefijos)}\")\n"
   ]
  },
  {
   "cell_type": "markdown",
   "metadata": {},
   "source": [
    "#### 2.7 Agrupa las canciones por década."
   ]
  },
  {
   "cell_type": "code",
   "execution_count": 39,
   "metadata": {},
   "outputs": [
    {
     "data": {
      "text/plain": [
       "{1960: ['Like a Rolling Stone',\n",
       "  'Hey Jude',\n",
       "  'Your Song',\n",
       "  'Bohemian Rhapsody',\n",
       "  'Billie Jean',\n",
       "  'Like a Prayer',\n",
       "  'Space Oddity',\n",
       "  'Smells Like Teen Spirit',\n",
       "  'Someone Like You',\n",
       "  'Shape of You',\n",
       "  'Halo',\n",
       "  'Blank Space',\n",
       "  'Diamonds',\n",
       "  ',  ,  Hotline Bling',\n",
       "  'Stronger',\n",
       "  'Uptown Funk',\n",
       "  '7 Rings',\n",
       "  \",  ,  Hips Don't Lie\",\n",
       "  'Yellow',\n",
       "  'Bad Romance'],\n",
       " 1970: ['Like a Rolling Stone',\n",
       "  'Hey Jude',\n",
       "  'Your Song',\n",
       "  'Bohemian Rhapsody',\n",
       "  'Billie Jean',\n",
       "  'Like a Prayer',\n",
       "  'Space Oddity',\n",
       "  'Smells Like Teen Spirit',\n",
       "  'Someone Like You',\n",
       "  'Shape of You',\n",
       "  'Halo',\n",
       "  'Blank Space',\n",
       "  'Diamonds',\n",
       "  ',  ,  Hotline Bling',\n",
       "  'Stronger',\n",
       "  'Uptown Funk',\n",
       "  '7 Rings',\n",
       "  \",  ,  Hips Don't Lie\",\n",
       "  'Yellow',\n",
       "  'Bad Romance'],\n",
       " 1980: ['Like a Rolling Stone',\n",
       "  'Hey Jude',\n",
       "  'Your Song',\n",
       "  'Bohemian Rhapsody',\n",
       "  'Billie Jean',\n",
       "  'Like a Prayer',\n",
       "  'Space Oddity',\n",
       "  'Smells Like Teen Spirit',\n",
       "  'Someone Like You',\n",
       "  'Shape of You',\n",
       "  'Halo',\n",
       "  'Blank Space',\n",
       "  'Diamonds',\n",
       "  ',  ,  Hotline Bling',\n",
       "  'Stronger',\n",
       "  'Uptown Funk',\n",
       "  '7 Rings',\n",
       "  \",  ,  Hips Don't Lie\",\n",
       "  'Yellow',\n",
       "  'Bad Romance'],\n",
       " 1990: ['Like a Rolling Stone',\n",
       "  'Hey Jude',\n",
       "  'Your Song',\n",
       "  'Bohemian Rhapsody',\n",
       "  'Billie Jean',\n",
       "  'Like a Prayer',\n",
       "  'Space Oddity',\n",
       "  'Smells Like Teen Spirit',\n",
       "  'Someone Like You',\n",
       "  'Shape of You',\n",
       "  'Halo',\n",
       "  'Blank Space',\n",
       "  'Diamonds',\n",
       "  ',  ,  Hotline Bling',\n",
       "  'Stronger',\n",
       "  'Uptown Funk',\n",
       "  '7 Rings',\n",
       "  \",  ,  Hips Don't Lie\",\n",
       "  'Yellow',\n",
       "  'Bad Romance'],\n",
       " 2000: ['Like a Rolling Stone',\n",
       "  'Hey Jude',\n",
       "  'Your Song',\n",
       "  'Bohemian Rhapsody',\n",
       "  'Billie Jean',\n",
       "  'Like a Prayer',\n",
       "  'Space Oddity',\n",
       "  'Smells Like Teen Spirit',\n",
       "  'Someone Like You',\n",
       "  'Shape of You',\n",
       "  'Halo',\n",
       "  'Blank Space',\n",
       "  'Diamonds',\n",
       "  ',  ,  Hotline Bling',\n",
       "  'Stronger',\n",
       "  'Uptown Funk',\n",
       "  '7 Rings',\n",
       "  \",  ,  Hips Don't Lie\",\n",
       "  'Yellow',\n",
       "  'Bad Romance'],\n",
       " 2010: ['Like a Rolling Stone',\n",
       "  'Hey Jude',\n",
       "  'Your Song',\n",
       "  'Bohemian Rhapsody',\n",
       "  'Billie Jean',\n",
       "  'Like a Prayer',\n",
       "  'Space Oddity',\n",
       "  'Smells Like Teen Spirit',\n",
       "  'Someone Like You',\n",
       "  'Shape of You',\n",
       "  'Halo',\n",
       "  'Blank Space',\n",
       "  'Diamonds',\n",
       "  ',  ,  Hotline Bling',\n",
       "  'Stronger',\n",
       "  'Uptown Funk',\n",
       "  '7 Rings',\n",
       "  \",  ,  Hips Don't Lie\",\n",
       "  'Yellow',\n",
       "  'Bad Romance']}"
      ]
     },
     "execution_count": 39,
     "metadata": {},
     "output_type": "execute_result"
    }
   ],
   "source": [
    "def obtener_decada(_cancion):\n",
    "    return (int(_cancion['fecha_lanzamiento']) // 10) * 10\n",
    "\n",
    "\n",
    "decadas = []\n",
    "canciones_por_decadas = {}\n",
    "for cancion in canciones:\n",
    "    decada = obtener_decada(cancion)\n",
    "    if decada not in decadas:\n",
    "        decadas.append(decada)\n",
    "\n",
    "decadas = sorted(decadas)\n",
    "lista_canciones_decadas = [[]] * len(decadas)\n",
    "\n",
    "for _cancion in canciones:\n",
    "    index_decada = decadas.index(obtener_decada(_cancion))\n",
    "    \n",
    "    lista_canciones_decadas[index_decada].append(_cancion['titulo'])\n",
    "\n",
    "resultado = {}\n",
    "for i,decada in enumerate(decadas):\n",
    "    resultado[decada] = lista_canciones_decadas[i]\n",
    "\n",
    "resultado"
   ]
  }
 ],
 "metadata": {
  "kernelspec": {
   "display_name": "Python 3",
   "language": "python",
   "name": "python3"
  },
  "language_info": {
   "codemirror_mode": {
    "name": "ipython",
    "version": 3
   },
   "file_extension": ".py",
   "mimetype": "text/x-python",
   "name": "python",
   "nbconvert_exporter": "python",
   "pygments_lexer": "ipython3",
   "version": "3.12.4"
  }
 },
 "nbformat": 4,
 "nbformat_minor": 2
}
